{
 "cells": [
  {
   "cell_type": "code",
   "execution_count": 11,
   "metadata": {},
   "outputs": [
    {
     "data": {
      "text/plain": [
       "\"Hier, je suis allÃ© Ã\\xa0 la piscine. Malheureusement j'ai attrapÃ© froid et aujourd'hui, le 30-01-2019, j'Ã©tais malade. Je dois retourner voir le mÃ©decin dans 20 jours.\""
      ]
     },
     "execution_count": 11,
     "metadata": {},
     "output_type": "execute_result"
    }
   ],
   "source": [
    "import numpy as np\n",
    "import pandas as pd\n",
    "%matplotlib inline\n",
    "import matplotlib\n",
    "import re\n",
    "\n",
    "with open('text_with_date.txt', 'r') as file:\n",
    "    data = file.read().replace('\\n', '')\n",
    "data"
   ]
  },
  {
   "cell_type": "code",
   "execution_count": 22,
   "metadata": {},
   "outputs": [
    {
     "data": {
      "text/plain": [
       "['Hier', \"aujourd'hui\", '30-01-2019', '20 jours']"
      ]
     },
     "execution_count": 22,
     "metadata": {},
     "output_type": "execute_result"
    }
   ],
   "source": [
    "pattern_date = '\\d{2}-\\d{2}-\\d{4}'\n",
    "key_word_dic = {\"hier\" : -1, \"aujourd'hui\" : 0, \"\\d+ jours\":0}\n",
    "\n",
    "pattern = pattern_date\n",
    "for k in key_word_dic:\n",
    "    pattern += \"|\" + k\n",
    "    \n",
    "re.findall(pattern, data, re.IGNORECASE)"
   ]
  },
  {
   "cell_type": "code",
   "execution_count": null,
   "metadata": {},
   "outputs": [],
   "source": [
    "def set_contextdate(date[]):\n",
    "    current_date = date[0]\n",
    "    offset=0\n",
    "    if re.match(pattern_date, current_date):\n",
    "        return current_date\n",
    "    else:\n",
    "        if key, k_offset in key_word_dic.items()\n",
    "            offset = k_offset\n",
    "            set_contextdate(date[1:])\n",
    "    "
   ]
  }
 ],
 "metadata": {
  "kernelspec": {
   "display_name": "Python 3",
   "language": "python",
   "name": "python3"
  },
  "language_info": {
   "codemirror_mode": {
    "name": "ipython",
    "version": 3
   },
   "file_extension": ".py",
   "mimetype": "text/x-python",
   "name": "python",
   "nbconvert_exporter": "python",
   "pygments_lexer": "ipython3",
   "version": "3.7.4"
  }
 },
 "nbformat": 4,
 "nbformat_minor": 2
}
